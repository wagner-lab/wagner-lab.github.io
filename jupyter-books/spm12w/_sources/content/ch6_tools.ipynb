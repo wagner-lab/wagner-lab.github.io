{
 "cells": [
  {
   "cell_type": "markdown",
   "id": "6f7b0a21-6bde-45cf-af56-15bbdc8fbbe9",
   "metadata": {},
   "source": [
    "# Additional Tools"
   ]
  },
  {
   "cell_type": "markdown",
   "id": "b5497ee9-34c3-4639-8127-5901572f5df2",
   "metadata": {},
   "source": [
    "## Overview\n",
    "\n",
    "Most functions in SPM12w are driven according to the parameters specified in their associated parameter file types (p,glm,roi,voi) which exist in the _derivatives/userID/code_ directory. In this way, entire analyses (from preprocessing to group-level stats to ROI analyses) can be regenerated with minimal user input."
   ]
  },
  {
   "cell_type": "markdown",
   "id": "ed299e06-ef2c-49be-9c2b-f9cff10340e6",
   "metadata": {},
   "source": [
    "## spm12w_timeplot.m\n",
    "\n",
    "The __p__ parameter file is for preprocessing functional data. The file contains directory naming information along with various settings for preprocessing (e.g., EPI normalization vs. anatomy-based). Typically, we have only one __p__ file per study/task, even though we may ha"
   ]
  },
  {
   "cell_type": "code",
   "execution_count": null,
   "id": "9ee4de51-cbd0-4123-b2f5-3f3aad6251cb",
   "metadata": {},
   "outputs": [],
   "source": []
  }
 ],
 "metadata": {
  "kernelspec": {
   "display_name": "Python 3 (ipykernel)",
   "language": "python",
   "name": "python3"
  },
  "language_info": {
   "codemirror_mode": {
    "name": "ipython",
    "version": 3
   },
   "file_extension": ".py",
   "mimetype": "text/x-python",
   "name": "python",
   "nbconvert_exporter": "python",
   "pygments_lexer": "ipython3",
   "version": "3.8.15"
  }
 },
 "nbformat": 4,
 "nbformat_minor": 5
}
