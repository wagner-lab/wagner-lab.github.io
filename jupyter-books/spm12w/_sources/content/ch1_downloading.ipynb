{
 "cells": [
  {
   "cell_type": "markdown",
   "id": "6f7b0a21-6bde-45cf-af56-15bbdc8fbbe9",
   "metadata": {},
   "source": [
    "# Downloading and Installing SPM12w"
   ]
  },
  {
   "cell_type": "markdown",
   "id": "68d77b53-c301-4d92-a6fb-54365afd52d9",
   "metadata": {},
   "source": [
    "## Downloading SPM12w from github\n",
    "\n",
    "As of 2024, SPM12w has been moved back to [github](http://github.com/ddwagner/SPM12w) after a long hiatus of the repository being private as the code was updated and made compatible with the BIDS specification. \n",
    "\n",
    "To install SPM12w it is recommended that you clone the SPM12w repository using the following address: `https://github.com/ddwagner/SPM12w.git`. Alternatively, if you do not want to use Git, you can go to the GitHub address listed above and download an archive of the entire repository. "
   ]
  },
  {
   "cell_type": "markdown",
   "id": "b7b5f797-5765-48f6-a597-f6980e566316",
   "metadata": {},
   "source": [
    "## Why Git?\n",
    "\n",
    "```{image} ../assets/ch1_git.png\n",
    ":alt: git\n",
    ":width: 200px\n",
    ":align: center\n",
    "```"
   ]
  },
  {
   "cell_type": "markdown",
   "id": "b52e58b1-1084-4a69-8f90-ac871b6d7332",
   "metadata": {},
   "source": [
    "## Installing SPM12w with Git\n",
    "The following is a brief description of how to clone SPM12w repository using Git and how to check for updates. There are many guides you can use to get familiar with Git if you are not already. For instance, the \"simple guide - no deep shit!\" web page is a great place to start [https://rogerdudler.github.io/git-guide/](https://rogerdudler.github.io/git-guide/).\n",
    "\n",
    "From within your computer or server's Matlab directory, you can clone the SPM12w repository using the following command within a terminal window on Linux/mac or Git Bash on Windows.\n",
    "\n",
    "```\n",
    "$ git clone git://github.com/ddwagner/SPM12w.git\n",
    "```\n",
    "\n",
    "This will clone the SPM12w repository including all the core Matlab files, nifti files and several helper files that we use to configure the Matlab path (under the MATLAB directory). In addition, you will find a copy of this book as a PDF inside the root study directory."
   ]
  },
  {
   "cell_type": "markdown",
   "id": "46e4cd1c-7cb7-4dbc-b04d-6ca5e3c23312",
   "metadata": {},
   "source": [
    "## Updating SPM12w\n",
    "Currently, there is only one branch of SPM12w on GitHub making the updating process straightforward. In the future, there may be development branches. To easily update SPM12w to the latest build by running the Git pull command within the directory where SPM12w was installed.\n",
    "\n",
    "```\n",
    "$ git pull\n",
    "```"
   ]
  },
  {
   "cell_type": "markdown",
   "id": "dd465e54-db12-4d76-8421-666ecf93e6ad",
   "metadata": {},
   "source": [
    "## Setting up the Matlab paths\n",
    "\n",
    "Inside the MATLAB directory that comes with SPM12w is a file called __spm12path.m__ which sets up your matlab path for use with SPM12/SPM12w and other common Matlab-based tools for neuroimaging. To use this file, edit the following lines to specify the path to SPM12 and to SPM12w on your local machine or server. \n",
    "\n",
    "```octave\n",
    "% spm12 and spm12w path variables (edit these)\n",
    "spm12_path = '/lab/opt/matlab/spm12_7771';\n",
    "spm12w_path = '/lab/opt/matlab/spm12w_7771_bids/spm12w';\n",
    "```\n",
    "\n",
    "In addition, if you installed tools (_see next section_) to the tools directory of SPM12w, you can add this directory to the `tools_path` variable as well as the name of the tools in subsequent variables (comment out any that you do not use). \n",
    "\n",
    "```octave\n",
    "% Optional tools paths (edit these, add additional tools to the tools var)\n",
    "tools_path = 'lab/opt/matlab/tools';\n",
    "tools{1} = 'motionfingerprint_1.5.2';\n",
    "tools{2} = 'PhysIO_r534';\n",
    "tools{3} = 'mni2tal';\n",
    "tools{4} = 'r2agui_2.7';\n",
    "tools{5} = 'dicm2nii-2024.01.22';\n",
    "tools{6} = 'xjview_8.12';\n",
    "tools{7} = 'aal_08_2015';\n",
    "tools{8} = 'conn_v21a';\n",
    "```\n",
    "\n",
    "To use __spm12path.m__ to set your path you can either place it inside your default Matlab path directory and call it from the Matlab command prompt or create a bash script that tells Matlab to run __spm12path.m__ upon starting. The file we use to run Matlab this way is also included in the _additional\\files directory_ and its contents are:\n",
    "\n",
    "```bash\n",
    "#!/bin/sh\n",
    "# Call matlab without splash or IDE and set path on launch.\n",
    "/usr/local/bin/matlab -nosplash -nodesktop -r \"run /lab/opt/matlab/spm12path.m\"\n",
    "```"
   ]
  },
  {
   "cell_type": "markdown",
   "id": "7450408f-32fc-467c-93b8-edc717975196",
   "metadata": {},
   "source": [
    "## Microsoft Windows compatibility\n",
    "\n",
    "In general, SPM12w is compatible with Windows. However, as it was developed on Linux first some functions may not have been fully tested with Windows. Whenever possible SPM12w uses Matlab commands to perform OS-level operations (i.e. chdir, move, copy and delete files) and these commansd work across platforms."
   ]
  },
  {
   "cell_type": "markdown",
   "id": "d1eebb80-4fa9-46ca-a1d1-73f3f3475b75",
   "metadata": {},
   "source": [
    "## Additional Files\n",
    "\n",
    "SPM12w also comes with additional anatomical MRIs in MNI space that are of higher resolution than the files that come with SPM12. These files can be found in the _additional\\files_ directory in your local repository. The files in the canonical.7z archive should be extracted and placed inside the _canonical_ directory of your local SPM12 copy. \n",
    "\n",
    "## Tutorial Dataset\n",
    "The easiest way to learn how to use SPM12w and ensure that your local version is working is to run through the tutorial dataset. SPM12w comes with a small dataset from three grad student colleagues who gave us written permission to include their data. This dataset comes with all the Parameter files needed to run most analyses that SPM12w is capable of and can be used as templates for preprocessing and analyzing your own studies.\n",
    "\n",
    "The dataset contains raw data (in Philips PAR/REC) format as well as a pre-converted BIDS directory for those who want to skip the conversion to BIDS step. For more information, see the Tutorial Dataset section of this PDF.\n",
    "\n",
    "## Additional requirements\n",
    "\n",
    "SPM12w is a series of scripts designed to interface with various components of SPM12. As such it requires a working installation of SPM12 to reside in the matlab path. Each version of SPM12w is targeted to work with a specific revision of SPM12. SPM12w versions are named after their associated SPM12 revision. Thus, the current version of __SPM12w r7771__ requires [__SPM12 r7771__](http://www.fil.ion.ucl.ac.uk/spm/software/spm12/)"
   ]
  },
  {
   "cell_type": "code",
   "execution_count": null,
   "id": "b62c9f31-0edb-47a8-a2bb-d49420114ce6",
   "metadata": {},
   "outputs": [],
   "source": []
  }
 ],
 "metadata": {
  "kernelspec": {
   "display_name": "Python 3 (ipykernel)",
   "language": "python",
   "name": "python3"
  },
  "language_info": {
   "codemirror_mode": {
    "name": "ipython",
    "version": 3
   },
   "file_extension": ".py",
   "mimetype": "text/x-python",
   "name": "python",
   "nbconvert_exporter": "python",
   "pygments_lexer": "ipython3",
   "version": "3.8.15"
  }
 },
 "nbformat": 4,
 "nbformat_minor": 5
}
