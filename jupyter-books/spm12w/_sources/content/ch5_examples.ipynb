{
 "cells": [
  {
   "cell_type": "markdown",
   "id": "6f7b0a21-6bde-45cf-af56-15bbdc8fbbe9",
   "metadata": {},
   "source": [
    "# Examples"
   ]
  },
  {
   "cell_type": "markdown",
   "id": "b5497ee9-34c3-4639-8127-5901572f5df2",
   "metadata": {},
   "source": [
    "## The SPM12w tutorial dataset\n",
    "\n",
    "Most functions in SPM12w are driven according to the parameters specified in their associated parameter file types (p,glm,roi,voi) which exist in the _derivatives/userID/code_ directory. In this way, entire analyses (from preprocessing to group-level stats to ROI analyses) can be regenerated with minimal user input."
   ]
  },
  {
   "cell_type": "markdown",
   "id": "ed299e06-ef2c-49be-9c2b-f9cff10340e6",
   "metadata": {},
   "source": [
    "## The p file\n",
    "\n",
    "The __p__ parameter file is for preprocessing functional data. The file contains directory naming information along with various settings for preprocessing (e.g., EPI normalization vs. anatomy-based). Typically, we have only one __p__ file per study/task, even though we may have multiple different __glm__ parameter files.\n",
    "\n",
    "Below we walk through the various lines of a parameters file.\n",
    "\n",
    "```octave\n",
    "% User name\n",
    "p.username = 'wagner.1174';\n",
    "\n",
    "% Derivative directory & functional task specifications\n",
    "p.preproc_name = 'epinorm';\n",
    "p.task = 'tutorial';\n",
    "```\n",
    "\n",
    "In this section, the username is provided along with a label to use in naming the derivative directory. Using these two elements, spm12w will create the following directory _derivatives/username/spm-preproc-epinorm_ where the preprocessed data will be deposited. \n",
    "\n",
    "```{note} \n",
    "The BIDS-compliant rawdata directory is never altered by spm12w. All preprocessing and analyses are stored in the derivatives directory. In this way, the derivatives directory can be deleted without affecting the bids-compliant dataset. Be careful to backup your code directory before doing this (or keep a copy of your code in the sourcedata/code directory). \n",
    "```\n",
    "\n",
    "The task variable allows spm12w to know what task(s) you want to preprocess. If you want to preprocess more than one task, place these in a cell array (i.e., `p.task = {'tutorial','motor'};`)\n",
    "\n",
    "```octave\n",
    "% Preprocessing Routines - 1=yes 0=no\n",
    "p.unwarp = 1; % Unwarping (correct field inhomogeneties)\n",
    "\n",
    "p.normalize = ’epi’; % Normalize type ('none','epi','spm12','dartel')\n",
    "p.smoothing = 8;     % Size of smoothing kernel in FWHM (0 for no smoothing)\n",
    "```\n",
    "\n",
    "In the section above we specify the preprocessing routines, beginning with SPM's unwarping function (1 = yes, 0 = no), followed by the type of normalization (none, epi, spm12, or dartel) and smoothing kernel size. \n",
    "\n",
    "_Below, we describe each parameter in more detail:_\n",
    "\n",
    "p.username\n",
    ": Username used when forming directories for derivative data. This corresponds to the _./derivatives/username_ directory. This allows multiple people to work from the same BIDS dataset by segregating their derivatives by user.\n",
    "\n",
    "p.preproc-name \n",
    ": Name used in creating the path for the preprocessing derivatives.\n",
    "\n",
    "p.task \n",
    ": Specifies which task(s) to run preprocessing on. For more than one task, place the tasks in a cell array of strings (i.e. {'tutorial','motor'}).\n",
    "\n",
    "p.unwarping\n",
    ": Specifies whether or not to run SPM's unwarping routine. (1=yes, 0=no).\n",
    "\n",
    "p.normalize\n",
    ": Specifies which normalization routine to use. 'epi' uses SPM's epi template. 'spm12' uses SPM's default anatomy-based normalization. 'dartel' is a placeholder for dartel-based normalization that we hope to implement in the future.\n",
    "\n",
    "p.smoothing \n",
    ": Size of the smoothing kernel to use after normalization. \n",
    "\n",
    "Less commonly used preprocessing options are available in the _spm12w_defaults.m_ file. \n",
    "\n",
    "```{warning}\n",
    "It is important not to edit this file as it will change the defaults for all users. If there is a default you want to override, copy it to your parameters file on an as-needed basis. If you override a default, spm12w will alert you during preprocessing.\n",
    "```\n",
    "\n",
    "The defaults in this fill allow you to disable slice time correction, and realignment, and turn off the QA options (e.g., shuffle check, SNR correction, etc.). In order to apply these, __DO NOT EDIT THE DEFAULTS FILE__ but rather copy the variable from the _spm12w_defaults.m_ file into your study's __P__ file. Make sure to change the structure name (i.e., from _def.(fieldname)_ to _p.(fieldname)_). This will override the associated default only for that preprocessing instance.\n",
    "\n",
    "```{note}\n",
    "You will know that this is working as spm12w will announce the override as it begins preprocessing. If you do not see the override warning message, then something has gone amiss.\n",
    "```"
   ]
  },
  {
   "cell_type": "code",
   "execution_count": null,
   "id": "9ee4de51-cbd0-4123-b2f5-3f3aad6251cb",
   "metadata": {},
   "outputs": [],
   "source": []
  }
 ],
 "metadata": {
  "kernelspec": {
   "display_name": "Python 3 (ipykernel)",
   "language": "python",
   "name": "python3"
  },
  "language_info": {
   "codemirror_mode": {
    "name": "ipython",
    "version": 3
   },
   "file_extension": ".py",
   "mimetype": "text/x-python",
   "name": "python",
   "nbconvert_exporter": "python",
   "pygments_lexer": "ipython3",
   "version": "3.8.17"
  }
 },
 "nbformat": 4,
 "nbformat_minor": 5
}
